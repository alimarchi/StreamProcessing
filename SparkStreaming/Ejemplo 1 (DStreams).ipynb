{
 "cells": [
  {
   "cell_type": "markdown",
   "metadata": {},
   "source": [
    "Primer ejercicio de Spark Streaming usando el API DStream. DStream fue la primera API de Spark para procesamiento de Streams y consiste en una secuencia de RDDs, aunque está siendo desplazada por Structured Streaming, todavía hay proyectos en etapa desarrollo que han optado por DStream para su salida a producción."
   ]
  },
  {
   "cell_type": "code",
   "execution_count": 1,
   "metadata": {},
   "outputs": [],
   "source": [
    "from pyspark import SparkContext\n",
    "from pyspark.streaming import StreamingContext"
   ]
  },
  {
   "cell_type": "code",
   "execution_count": 2,
   "metadata": {},
   "outputs": [],
   "source": [
    "# Create a local StreamingContext with two working thread and batch interval of 5 seconds\n",
    "\n",
    "sc = SparkContext(\"local[2]\", \"NetworkWordCount\")\n",
    "ssc = StreamingContext(sc, 5) # 5 seconds interval"
   ]
  },
  {
   "cell_type": "code",
   "execution_count": 3,
   "metadata": {},
   "outputs": [],
   "source": [
    "# Create a DStream that will connect to hostname: port, like localhost:9999\n",
    "# In command line -> nc -lk 9999\n",
    "\n",
    "lines =ssc.socketTextStream(\"localhost\", 9999)"
   ]
  },
  {
   "cell_type": "code",
   "execution_count": 4,
   "metadata": {},
   "outputs": [],
   "source": [
    "# Split each line into words\n",
    "\n",
    "words =lines.flatMap(lambda line:line.split(\" \"))"
   ]
  },
  {
   "cell_type": "code",
   "execution_count": 5,
   "metadata": {},
   "outputs": [],
   "source": [
    "# Filter words less than 3 characters\n",
    "\n",
    "filteredWords = words.filter(lambda word : len(word) > 2)"
   ]
  },
  {
   "cell_type": "code",
   "execution_count": 6,
   "metadata": {},
   "outputs": [],
   "source": [
    "# Count each word in each batch\n",
    "\n",
    "pairs = filteredWords.map(lambda word:(word, 1))\n",
    "wordCounts = pairs.reduceByKey(lambda x,y: x + y)"
   ]
  },
  {
   "cell_type": "code",
   "execution_count": null,
   "metadata": {},
   "outputs": [
    {
     "name": "stdout",
     "output_type": "stream",
     "text": [
      "-------------------------------------------\n",
      "Time: 2022-05-31 16:54:20\n",
      "-------------------------------------------\n",
      "\n",
      "-------------------------------------------\n",
      "Time: 2022-05-31 16:54:25\n",
      "-------------------------------------------\n",
      "\n",
      "-------------------------------------------\n",
      "Time: 2022-05-31 16:54:30\n",
      "-------------------------------------------\n",
      "('hola', 1)\n",
      "('mundo', 1)\n",
      "\n",
      "-------------------------------------------\n",
      "Time: 2022-05-31 16:54:35\n",
      "-------------------------------------------\n",
      "('primera', 1)\n",
      "('frase', 1)\n",
      "\n",
      "-------------------------------------------\n",
      "Time: 2022-05-31 16:54:40\n",
      "-------------------------------------------\n",
      "('tercer', 1)\n",
      "('mensaje', 1)\n",
      "\n",
      "-------------------------------------------\n",
      "Time: 2022-05-31 16:54:45\n",
      "-------------------------------------------\n",
      "\n",
      "-------------------------------------------\n",
      "Time: 2022-05-31 16:54:50\n",
      "-------------------------------------------\n",
      "\n",
      "-------------------------------------------\n",
      "Time: 2022-05-31 16:54:55\n",
      "-------------------------------------------\n",
      "('mensaje', 1)\n",
      "('número', 1)\n",
      "('cuatro', 1)\n",
      "\n",
      "-------------------------------------------\n",
      "Time: 2022-05-31 16:55:00\n",
      "-------------------------------------------\n",
      "\n",
      "-------------------------------------------\n",
      "Time: 2022-05-31 16:55:05\n",
      "-------------------------------------------\n",
      "('hola', 1)\n",
      "('nuevo', 1)\n",
      "\n",
      "-------------------------------------------\n",
      "Time: 2022-05-31 16:55:10\n",
      "-------------------------------------------\n",
      "\n",
      "-------------------------------------------\n",
      "Time: 2022-05-31 16:55:15\n",
      "-------------------------------------------\n",
      "('último', 1)\n",
      "('mensaje', 1)\n",
      "\n",
      "-------------------------------------------\n",
      "Time: 2022-05-31 16:55:20\n",
      "-------------------------------------------\n",
      "\n",
      "-------------------------------------------\n",
      "Time: 2022-05-31 16:55:25\n",
      "-------------------------------------------\n",
      "\n",
      "-------------------------------------------\n",
      "Time: 2022-05-31 16:55:30\n",
      "-------------------------------------------\n",
      "\n"
     ]
    }
   ],
   "source": [
    "# Print the first ten elements of each RDD generated in this DStream to the console\n",
    "#In python the command for output is pprint\n",
    "wordCounts.pprint()\n",
    "\n",
    "ssc.start() # Start the computation\n",
    "ssc.awaitTermination() # Wait for the computation to terminate"
   ]
  },
  {
   "cell_type": "code",
   "execution_count": null,
   "metadata": {},
   "outputs": [],
   "source": []
  }
 ],
 "metadata": {
  "kernelspec": {
   "display_name": "Python 3",
   "language": "python",
   "name": "python3"
  },
  "language_info": {
   "codemirror_mode": {
    "name": "ipython",
    "version": 3
   },
   "file_extension": ".py",
   "mimetype": "text/x-python",
   "name": "python",
   "nbconvert_exporter": "python",
   "pygments_lexer": "ipython3",
   "version": "3.7.1"
  }
 },
 "nbformat": 4,
 "nbformat_minor": 2
}
