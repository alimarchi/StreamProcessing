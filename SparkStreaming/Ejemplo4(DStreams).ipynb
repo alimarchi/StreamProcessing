{
 "cells": [
  {
   "cell_type": "markdown",
   "metadata": {},
   "source": [
    "Cuarto ejercicio de Spark Streaming usando el API DStream.\n",
    "WordCount con ventana deslizante usando CountByValueAndWindow"
   ]
  },
  {
   "cell_type": "code",
   "execution_count": 1,
   "metadata": {},
   "outputs": [],
   "source": [
    "from pyspark import SparkContext\n",
    "from pyspark.streaming import StreamingContext"
   ]
  },
  {
   "cell_type": "code",
   "execution_count": 2,
   "metadata": {},
   "outputs": [],
   "source": [
    "# Function to create and setup a new StreamingContext\n",
    "def functionToCreateContext():\n",
    "    # Create a local StreamingContext with two working thread and batch interval of 5 seconds\n",
    "    sc = SparkContext(\"local[2]\", \"WindowedNetworkWordCount2\")\n",
    "    ssc = StreamingContext(sc, 5)\n",
    "    \n",
    "    # Mandatory set a checkpoint dir\n",
    "    # http://spark.apache.org/docs/latest/streaming-programming-guide.html#checkpointing\n",
    "    # Crear carpeta /checkpointDirectory2 dentro del directorio notebooks-spark o dentro del directorio Spark-Streaming-Python\n",
    "    ssc.checkpoint(\"./checkpointDirectory4\")  # set checkpoint directory\n",
    "    return ssc"
   ]
  },
  {
   "cell_type": "code",
   "execution_count": 3,
   "metadata": {},
   "outputs": [],
   "source": [
    "# Get StreamingContext from checkpoint data or create a new one\n",
    "ssc = StreamingContext.getOrCreate(checkpointPath = \"./checkpointDirectory4\", setupFunc = functionToCreateContext)"
   ]
  },
  {
   "cell_type": "code",
   "execution_count": 4,
   "metadata": {},
   "outputs": [],
   "source": [
    "# Create a DStream that will connect to hostname:port, like localhost:9999\n",
    "# In command line -> nc -lk 9999\n",
    "lines =ssc.socketTextStream(\"localhost\", 9999)"
   ]
  },
  {
   "cell_type": "code",
   "execution_count": 5,
   "metadata": {},
   "outputs": [],
   "source": [
    "# Split each line into words\n",
    "words =lines.flatMap(lambda line:line.split(\" \"))"
   ]
  },
  {
   "cell_type": "code",
   "execution_count": 6,
   "metadata": {},
   "outputs": [],
   "source": [
    "# Count each word in each batch\n",
    "windowedWordCounts = words.countByValueAndWindow(30, 10)"
   ]
  },
  {
   "cell_type": "code",
   "execution_count": null,
   "metadata": {
    "scrolled": false
   },
   "outputs": [
    {
     "name": "stdout",
     "output_type": "stream",
     "text": [
      "-------------------------------------------\n",
      "Time: 2022-06-01 11:00:10\n",
      "-------------------------------------------\n",
      "\n",
      "-------------------------------------------\n",
      "Time: 2022-06-01 11:00:20\n",
      "-------------------------------------------\n",
      "('ejemplo', 1)\n",
      "('nuevo', 1)\n",
      "\n",
      "-------------------------------------------\n",
      "Time: 2022-06-01 11:00:30\n",
      "-------------------------------------------\n",
      "('ejemplo', 1)\n",
      "('con', 1)\n",
      "('', 1)\n",
      "('nuevo', 1)\n",
      "('wordcount', 1)\n",
      "('ventana', 1)\n",
      "('deslizante', 1)\n",
      "\n",
      "-------------------------------------------\n",
      "Time: 2022-06-01 11:00:40\n",
      "-------------------------------------------\n",
      "('ejemplo', 1)\n",
      "('con', 1)\n",
      "('', 1)\n",
      "('usando', 1)\n",
      "('nuevo', 1)\n",
      "('wordcount', 1)\n",
      "('ventana', 1)\n",
      "('deslizante', 1)\n",
      "('countbyvalueandwindow', 1)\n",
      "\n",
      "-------------------------------------------\n",
      "Time: 2022-06-01 11:00:50\n",
      "-------------------------------------------\n",
      "('con', 1)\n",
      "('', 2)\n",
      "('usando', 1)\n",
      "('streaming', 1)\n",
      "('el', 1)\n",
      "('api', 1)\n",
      "('wordcount', 1)\n",
      "('ventana', 1)\n",
      "('deslizante', 1)\n",
      "('countbyvalueandwindow', 1)\n",
      "...\n",
      "\n",
      "-------------------------------------------\n",
      "Time: 2022-06-01 11:01:00\n",
      "-------------------------------------------\n",
      "('usando', 1)\n",
      "('streaming', 1)\n",
      "('el', 1)\n",
      "('api', 1)\n",
      "('', 1)\n",
      "('countbyvalueandwindow', 1)\n",
      "('spark', 1)\n",
      "('usnado', 1)\n",
      "('dstream', 1)\n",
      "('último', 1)\n",
      "...\n",
      "\n",
      "-------------------------------------------\n",
      "Time: 2022-06-01 11:01:10\n",
      "-------------------------------------------\n",
      "('streaming', 1)\n",
      "('el', 1)\n",
      "('api', 1)\n",
      "('', 1)\n",
      "('spark', 1)\n",
      "('usnado', 1)\n",
      "('dstream', 1)\n",
      "('último', 1)\n",
      "('mensaje', 1)\n",
      "\n",
      "-------------------------------------------\n",
      "Time: 2022-06-01 11:01:20\n",
      "-------------------------------------------\n",
      "\n",
      "-------------------------------------------\n",
      "Time: 2022-06-01 11:01:30\n",
      "-------------------------------------------\n",
      "\n"
     ]
    }
   ],
   "source": [
    "# Print the first ten elements of each RDD generated in this DStream to the console\n",
    "windowedWordCounts.pprint()\n",
    "\n",
    "ssc.start() # Start the computation\n",
    "ssc.awaitTermination() # Wait for the computation to terminate"
   ]
  },
  {
   "cell_type": "code",
   "execution_count": null,
   "metadata": {},
   "outputs": [],
   "source": []
  }
 ],
 "metadata": {
  "kernelspec": {
   "display_name": "Python 3",
   "language": "python",
   "name": "python3"
  },
  "language_info": {
   "codemirror_mode": {
    "name": "ipython",
    "version": 3
   },
   "file_extension": ".py",
   "mimetype": "text/x-python",
   "name": "python",
   "nbconvert_exporter": "python",
   "pygments_lexer": "ipython3",
   "version": "3.7.1"
  }
 },
 "nbformat": 4,
 "nbformat_minor": 2
}
