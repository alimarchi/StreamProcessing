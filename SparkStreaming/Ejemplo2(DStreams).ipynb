{
 "cells": [
  {
   "cell_type": "markdown",
   "metadata": {},
   "source": [
    "Segundo ejercicio de Spark Streaming usando el API DStream.\n",
    "WordCount utilizando la transfrormación countByValue"
   ]
  },
  {
   "cell_type": "code",
   "execution_count": 1,
   "metadata": {},
   "outputs": [],
   "source": [
    "from pyspark import SparkContext\n",
    "from pyspark.streaming import StreamingContext"
   ]
  },
  {
   "cell_type": "code",
   "execution_count": 2,
   "metadata": {},
   "outputs": [],
   "source": [
    "# Create a local StreamingContext with two working thread and batch interval of 10 seconds\n",
    "\n",
    "sc = SparkContext(\"local[2]\", \"NetworkWordCount\")\n",
    "ssc = StreamingContext(sc, 10)"
   ]
  },
  {
   "cell_type": "code",
   "execution_count": 3,
   "metadata": {},
   "outputs": [],
   "source": [
    "# Create a DStream that will connect to hostname:port, like localhost:9999\n",
    "# In command line -> nc -lk 9999\n",
    "\n",
    "lines =ssc.socketTextStream(\"localhost\", 9999)"
   ]
  },
  {
   "cell_type": "code",
   "execution_count": 4,
   "metadata": {},
   "outputs": [],
   "source": [
    "# Split each line into words\n",
    "\n",
    "words =lines.flatMap(lambda line:line.split(\" \"))"
   ]
  },
  {
   "cell_type": "code",
   "execution_count": 5,
   "metadata": {},
   "outputs": [],
   "source": [
    "# Filter words less than 4 characters\n",
    "\n",
    "filteredWords = words.filter(lambda word: len(word) > 3)"
   ]
  },
  {
   "cell_type": "code",
   "execution_count": 6,
   "metadata": {},
   "outputs": [],
   "source": [
    "# Count each word in each batch\n",
    "\n",
    "wordCounts = filteredWords.countByValue()"
   ]
  },
  {
   "cell_type": "code",
   "execution_count": null,
   "metadata": {},
   "outputs": [
    {
     "name": "stdout",
     "output_type": "stream",
     "text": [
      "-------------------------------------------\n",
      "Time: 2022-06-02 10:34:30\n",
      "-------------------------------------------\n",
      "('mundo', 1)\n",
      "('Hola', 1)\n",
      "\n",
      "-------------------------------------------\n",
      "Time: 2022-06-02 10:34:40\n",
      "-------------------------------------------\n",
      "('Mensaje', 1)\n",
      "('número', 1)\n",
      "\n",
      "-------------------------------------------\n",
      "Time: 2022-06-02 10:34:50\n",
      "-------------------------------------------\n",
      "('nuevas', 1)\n",
      "('palabras', 1)\n",
      "\n",
      "-------------------------------------------\n",
      "Time: 2022-06-02 10:35:00\n",
      "-------------------------------------------\n",
      "('contar', 1)\n",
      "('ejemplo', 1)\n",
      "('palabras', 1)\n",
      "\n",
      "-------------------------------------------\n",
      "Time: 2022-06-02 10:35:10\n",
      "-------------------------------------------\n",
      "\n",
      "-------------------------------------------\n",
      "Time: 2022-06-02 10:35:20\n",
      "-------------------------------------------\n",
      "('último', 1)\n",
      "('mensaje', 1)\n",
      "\n",
      "-------------------------------------------\n",
      "Time: 2022-06-02 10:35:30\n",
      "-------------------------------------------\n",
      "\n",
      "-------------------------------------------\n",
      "Time: 2022-06-02 10:35:40\n",
      "-------------------------------------------\n",
      "\n"
     ]
    }
   ],
   "source": [
    "# Print the first ten elements of each RDD generated in this DStream to the console\n",
    "#In python the command for output is pprint\n",
    "wordCounts.pprint()\n",
    "\n",
    "ssc.start() # Start the computation\n",
    "ssc.awaitTermination() # Wait for the computation to terminate"
   ]
  },
  {
   "cell_type": "code",
   "execution_count": null,
   "metadata": {},
   "outputs": [],
   "source": []
  }
 ],
 "metadata": {
  "kernelspec": {
   "display_name": "Python 3",
   "language": "python",
   "name": "python3"
  },
  "language_info": {
   "codemirror_mode": {
    "name": "ipython",
    "version": 3
   },
   "file_extension": ".py",
   "mimetype": "text/x-python",
   "name": "python",
   "nbconvert_exporter": "python",
   "pygments_lexer": "ipython3",
   "version": "3.7.1"
  }
 },
 "nbformat": 4,
 "nbformat_minor": 2
}
